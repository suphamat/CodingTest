{
 "cells": [
  {
   "cell_type": "markdown",
   "metadata": {},
   "source": [
    "## assignment1: majority element"
   ]
  },
  {
   "cell_type": "code",
   "execution_count": 1,
   "metadata": {},
   "outputs": [],
   "source": [
    "def majority_element(in_list, n):\n",
    "    maxcount = 0\n",
    "    index = -1\n",
    "    for i in range(n):\n",
    "        count = 0\n",
    "        for j in range(n):\n",
    "            if (in_list[i] == in_list[j]):\n",
    "                count += 1\n",
    "        if(count > maxcount):\n",
    "            maxcount = count\n",
    "            index = i\n",
    " \n",
    "    # more than half of array elements\n",
    "    if (maxcount > (n/2)):\n",
    "        out = in_list[index]\n",
    "    else:\n",
    "        out = -1\n",
    "        \n",
    "    return out"
   ]
  },
  {
   "cell_type": "code",
   "execution_count": 3,
   "metadata": {},
   "outputs": [
    {
     "name": "stdin",
     "output_type": "stream",
     "text": [
      "Please insert number of elements in array [1<=N<=100] 5\n"
     ]
    },
    {
     "name": "stdout",
     "output_type": "stream",
     "text": [
      "5\n",
      "83 21 65 16 74\n",
      "-1\n"
     ]
    }
   ],
   "source": [
    "import random \n",
    "while True:\n",
    "    try:\n",
    "        N = int(input(\"Please insert number of elements in array [1<=N<=100]\"))\n",
    "        print(N)\n",
    "        if (N >= 1 and N <=100):\n",
    "            list_temp = []\n",
    "            list_element = ''\n",
    "            for i in range(1,N+1):\n",
    "                n = random.randint(1,100)\n",
    "                list_temp.append(n)\n",
    "                list_element = list_element + ' ' + str(n)\n",
    "            print(list_element.strip())\n",
    "            \n",
    "            output = majority_element(list_temp, N)\n",
    "            print(output)\n",
    "            \n",
    "            break\n",
    "        else:\n",
    "            print(\"That isn't a valid number! Try again.\")\n",
    "    except:\n",
    "        print(\"\")"
   ]
  },
  {
   "cell_type": "code",
   "execution_count": null,
   "metadata": {},
   "outputs": [],
   "source": []
  }
 ],
 "metadata": {
  "kernelspec": {
   "display_name": "Python 3",
   "language": "python",
   "name": "python3"
  },
  "language_info": {
   "codemirror_mode": {
    "name": "ipython",
    "version": 3
   },
   "file_extension": ".py",
   "mimetype": "text/x-python",
   "name": "python",
   "nbconvert_exporter": "python",
   "pygments_lexer": "ipython3",
   "version": "3.6.10"
  }
 },
 "nbformat": 4,
 "nbformat_minor": 4
}
